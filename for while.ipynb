{
 "cells": [
  {
   "cell_type": "code",
   "execution_count": 1,
   "id": "54a29493-ddda-4a9d-8d8a-4ba99820f5de",
   "metadata": {},
   "outputs": [
    {
     "name": "stdout",
     "output_type": "stream",
     "text": [
      "1\n",
      "2\n",
      "3\n",
      "4\n",
      "5\n"
     ]
    }
   ],
   "source": [
    "# question 1 Print number from 1 to 5 using a while loop \n",
    "\n",
    "num = 1\n",
    "\n",
    "while num <= 5:\n",
    "    print(num)\n",
    "    num += 1\n"
   ]
  },
  {
   "cell_type": "code",
   "execution_count": 2,
   "id": "381d4af8-a5c4-462c-8d56-475a2325884b",
   "metadata": {},
   "outputs": [
    {
     "name": "stdout",
     "output_type": "stream",
     "text": [
      "The sum of numbers from 1 to 10 is: 55\n"
     ]
    }
   ],
   "source": [
    "# question no 2 Calclate the sum of number from 1 to 10 using a while loop.\n",
    "\n",
    "\n",
    "\n",
    "num = 1\n",
    "sum_of_numbers = 0\n",
    "\n",
    "while num <= 10:\n",
    "    sum_of_numbers += num\n",
    "    num += 1\n",
    "\n",
    "print(\"The sum of numbers from 1 to 10 is:\", sum_of_numbers)\n"
   ]
  },
  {
   "cell_type": "code",
   "execution_count": 1,
   "id": "51547b5d-68dc-4b21-a6ae-e4d23732cf59",
   "metadata": {},
   "outputs": [
    {
     "name": "stdout",
     "output_type": "stream",
     "text": [
      "The factorial of 5 is: 120\n"
     ]
    }
   ],
   "source": [
    "#Calclate the factorial of a number usinng a for loop.\n",
    "\n",
    "number = 5\n",
    "result_factorial = 1\n",
    "\n",
    "for i in range(1, number + 1):\n",
    "    result_factorial *= i\n",
    "\n",
    "print(f\"The factorial of {number} is:\", result_factorial)\n"
   ]
  },
  {
   "cell_type": "code",
   "execution_count": 2,
   "id": "fb517f4f-e141-48c7-8cb6-31faef9ec031",
   "metadata": {},
   "outputs": [
    {
     "name": "stdout",
     "output_type": "stream",
     "text": [
      "The number of vowels in the string is: 3\n"
     ]
    }
   ],
   "source": [
    "# que no 4 Count the number of vowels in a string using a for loop.\n",
    "# Input string\n",
    "input_string = \"Hello, World!\"\n",
    "\n",
    "# Convert the input string to lowercase for case-insensitive counting\n",
    "input_string = input_string.lower()\n",
    "\n",
    "# Initialize a variable to store the count\n",
    "vowel_count = 0\n",
    "\n",
    "# Define the set of vowels\n",
    "vowels = \"aeiou\"\n",
    "\n",
    "# Iterate through each character in the string\n",
    "for char in input_string:\n",
    "    if char in vowels:\n",
    "        vowel_count += 1\n",
    "\n",
    "# Print the result\n",
    "print(\"The number of vowels in the string is:\", vowel_count)\n"
   ]
  },
  {
   "cell_type": "code",
   "execution_count": 3,
   "id": "e1229f54-2e45-4d51-b4fe-d1bc738adf29",
   "metadata": {},
   "outputs": [
    {
     "name": "stdout",
     "output_type": "stream",
     "text": [
      "* \n",
      "* * \n",
      "* * * \n",
      "* * * * \n",
      "* * * * * \n"
     ]
    }
   ],
   "source": [
    "\n",
    "# que no 5 Print a pattern using  a nested loop.\n",
    "\n",
    "\n",
    "rows = 5\n",
    "\n",
    "for i in range(1, rows + 1):\n",
    "    for j in range(1, i + 1):\n",
    "        print(\"*\", end=\" \")\n",
    "    print()\n"
   ]
  },
  {
   "cell_type": "code",
   "execution_count": 4,
   "id": "de891f07-72be-42e0-aafc-b34ea710c93b",
   "metadata": {},
   "outputs": [
    {
     "name": "stdout",
     "output_type": "stream",
     "text": [
      "1\t2\t3\t4\t5\t6\t7\t8\t9\t10\t\n",
      "2\t4\t6\t8\t10\t12\t14\t16\t18\t20\t\n",
      "3\t6\t9\t12\t15\t18\t21\t24\t27\t30\t\n",
      "4\t8\t12\t16\t20\t24\t28\t32\t36\t40\t\n",
      "5\t10\t15\t20\t25\t30\t35\t40\t45\t50\t\n",
      "6\t12\t18\t24\t30\t36\t42\t48\t54\t60\t\n",
      "7\t14\t21\t28\t35\t42\t49\t56\t63\t70\t\n",
      "8\t16\t24\t32\t40\t48\t56\t64\t72\t80\t\n",
      "9\t18\t27\t36\t45\t54\t63\t72\t81\t90\t\n",
      "10\t20\t30\t40\t50\t60\t70\t80\t90\t100\t\n"
     ]
    }
   ],
   "source": [
    "\n",
    "# que no 6 Generate a multiplication table using a nested loop.\n",
    "# Set the range for the multiplication table\n",
    "rows = 10\n",
    "columns = 10\n",
    "\n",
    "# Outer loop for rows\n",
    "for i in range(1, rows + 1):\n",
    "    # Inner loop for columns\n",
    "    for j in range(1, columns + 1):\n",
    "        # Print the product of i and j with a tab separator\n",
    "        print(i * j, end=\"\\t\")\n",
    "    # Move to the next line after each row is printed\n",
    "    print()\n"
   ]
  },
  {
   "cell_type": "code",
   "execution_count": null,
   "id": "32298f45-14aa-40ed-bf98-f98adcc45b40",
   "metadata": {},
   "outputs": [],
   "source": []
  }
 ],
 "metadata": {
  "kernelspec": {
   "display_name": "Python 3 (ipykernel)",
   "language": "python",
   "name": "python3"
  },
  "language_info": {
   "codemirror_mode": {
    "name": "ipython",
    "version": 3
   },
   "file_extension": ".py",
   "mimetype": "text/x-python",
   "name": "python",
   "nbconvert_exporter": "python",
   "pygments_lexer": "ipython3",
   "version": "3.10.8"
  }
 },
 "nbformat": 4,
 "nbformat_minor": 5
}
